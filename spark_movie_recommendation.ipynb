{
 "cells": [
  {
   "cell_type": "code",
   "execution_count": 1,
   "metadata": {},
   "outputs": [],
   "source": [
    "from pyspark.sql import SparkSession\n",
    "from pyspark.ml.recommendation import ALS\n",
    "from pyspark.ml.evaluation import RegressionEvaluator\n",
    "from pyspark.sql.functions import col"
   ]
  },
  {
   "cell_type": "code",
   "execution_count": 2,
   "metadata": {},
   "outputs": [],
   "source": [
    "# Initialize SparkSession\n",
    "spark = SparkSession.builder.appName('25m_movie_lens').getOrCreate()"
   ]
  },
  {
   "cell_type": "code",
   "execution_count": 3,
   "metadata": {},
   "outputs": [
    {
     "name": "stdout",
     "output_type": "stream",
     "text": [
      "+------+-------+------+----------+\n",
      "|userId|movieId|rating| timestamp|\n",
      "+------+-------+------+----------+\n",
      "|     1|    296|   5.0|1147880044|\n",
      "|     1|    306|   3.5|1147868817|\n",
      "|     1|    307|   5.0|1147868828|\n",
      "|     1|    665|   5.0|1147878820|\n",
      "|     1|    899|   3.5|1147868510|\n",
      "|     1|   1088|   4.0|1147868495|\n",
      "|     1|   1175|   3.5|1147868826|\n",
      "|     1|   1217|   3.5|1147878326|\n",
      "|     1|   1237|   5.0|1147868839|\n",
      "|     1|   1250|   4.0|1147868414|\n",
      "|     1|   1260|   3.5|1147877857|\n",
      "|     1|   1653|   4.0|1147868097|\n",
      "|     1|   2011|   2.5|1147868079|\n",
      "|     1|   2012|   2.5|1147868068|\n",
      "|     1|   2068|   2.5|1147869044|\n",
      "|     1|   2161|   3.5|1147868609|\n",
      "|     1|   2351|   4.5|1147877957|\n",
      "|     1|   2573|   4.0|1147878923|\n",
      "|     1|   2632|   5.0|1147878248|\n",
      "|     1|   2692|   5.0|1147869100|\n",
      "+------+-------+------+----------+\n",
      "only showing top 20 rows\n",
      "\n"
     ]
    }
   ],
   "source": [
    "# Load both the ratings and movies data into a pandas DataFrame\n",
    "ratings_df = spark.read.csv('./ml-25m/ratings.csv', header=True, inferSchema=True).limit(5000)\n",
    "movies_df = spark.read.csv('./ml-25m/movies.csv', header=True, inferSchema=True).limit(5000)\n",
    "\n",
    "ratings_df.show()"
   ]
  },
  {
   "cell_type": "code",
   "execution_count": 4,
   "metadata": {},
   "outputs": [
    {
     "name": "stdout",
     "output_type": "stream",
     "text": [
      "+------+-------+------+--------------------+--------------------+\n",
      "|userId|movieId|rating|               title|              genres|\n",
      "+------+-------+------+--------------------+--------------------+\n",
      "|     1|    296|   5.0| Pulp Fiction (1994)|Comedy|Crime|Dram...|\n",
      "|     1|    306|   3.5|Three Colors: Red...|               Drama|\n",
      "|     1|    307|   5.0|Three Colors: Blu...|               Drama|\n",
      "|     1|    665|   5.0|  Underground (1995)|    Comedy|Drama|War|\n",
      "|     1|    899|   3.5|Singin' in the Ra...|Comedy|Musical|Ro...|\n",
      "|     1|   1088|   4.0|Dirty Dancing (1987)|Drama|Musical|Rom...|\n",
      "|     1|   1175|   3.5| Delicatessen (1991)|Comedy|Drama|Romance|\n",
      "|     1|   1217|   3.5|          Ran (1985)|           Drama|War|\n",
      "|     1|   1237|   5.0|Seventh Seal, The...|               Drama|\n",
      "|     1|   1250|   4.0|Bridge on the Riv...| Adventure|Drama|War|\n",
      "|     1|   1260|   3.5|            M (1931)|Crime|Film-Noir|T...|\n",
      "|     1|   1653|   4.0|      Gattaca (1997)|Drama|Sci-Fi|Thri...|\n",
      "|     1|   2011|   2.5|Back to the Futur...|Adventure|Comedy|...|\n",
      "|     1|   2012|   2.5|Back to the Futur...|Adventure|Comedy|...|\n",
      "|     1|   2068|   2.5|Fanny and Alexand...|Drama|Fantasy|Mys...|\n",
      "|     1|   2161|   3.5|NeverEnding Story...|Adventure|Childre...|\n",
      "|     1|   2351|   4.5|Nights of Cabiria...|               Drama|\n",
      "|     1|   2573|   4.0|        Tango (1998)|       Drama|Musical|\n",
      "|     1|   2632|   5.0|Saragossa Manuscr...|Adventure|Drama|M...|\n",
      "|     1|   2692|   5.0|Run Lola Run (Lol...|        Action|Crime|\n",
      "+------+-------+------+--------------------+--------------------+\n",
      "only showing top 20 rows\n",
      "\n"
     ]
    }
   ],
   "source": [
    "# Left join ratings on movies\n",
    "join_df = ratings_df.join(movies_df, on='movieId', how='left') \\\n",
    "    .select(col('userId'), col('movieId'), col('rating'), col('title'), col('genres')) \\\n",
    "    .sort('userId')\n",
    "\n",
    "join_df.show()"
   ]
  },
  {
   "cell_type": "code",
   "execution_count": 5,
   "metadata": {},
   "outputs": [],
   "source": [
    "(train_df, test_df) = join_df.randomSplit([0.8, 0.2])"
   ]
  },
  {
   "cell_type": "code",
   "execution_count": 6,
   "metadata": {},
   "outputs": [],
   "source": [
    "# Define ALS model\n",
    "als = ALS(maxIter=20, regParam=0.01, userCol=\"userId\", itemCol=\"movieId\", ratingCol=\"rating\",\n",
    "          coldStartStrategy=\"drop\", nonnegative=True)"
   ]
  },
  {
   "cell_type": "code",
   "execution_count": 7,
   "metadata": {},
   "outputs": [
    {
     "name": "stdout",
     "output_type": "stream",
     "text": [
      "+------+-------+------+--------------------+--------------------+----------+\n",
      "|userId|movieId|rating|               title|              genres|prediction|\n",
      "+------+-------+------+--------------------+--------------------+----------+\n",
      "|    15|   1088|   2.0|Dirty Dancing (1987)|Drama|Musical|Rom...| 4.8114543|\n",
      "|    18|   1580|   4.0|Men in Black (a.k...|Action|Comedy|Sci-Fi| 2.7868874|\n",
      "|    30|   1580|   5.0|Men in Black (a.k...|Action|Comedy|Sci-Fi| 2.3709283|\n",
      "|    30|   3175|   4.5| Galaxy Quest (1999)|Adventure|Comedy|...| 2.5057309|\n",
      "|    31|   1580|   3.0|Men in Black (a.k...|Action|Comedy|Sci-Fi| 2.5196283|\n",
      "|    31|   3175|   1.5| Galaxy Quest (1999)|Adventure|Comedy|...| 2.0850792|\n",
      "|     2|    858|   3.5|Godfather, The (1...|         Crime|Drama| 4.8236017|\n",
      "|     3|    858|   5.0|Godfather, The (1...|         Crime|Drama| 3.9883099|\n",
      "|     3|   1127|   3.5|   Abyss, The (1989)|Action|Adventure|...| 4.0529284|\n",
      "|     4|  48780|   5.0|                null|                null|   2.36669|\n",
      "|     8|   1721|   4.0|      Titanic (1997)|       Drama|Romance| 4.5305934|\n",
      "|    18|   1721|   2.5|      Titanic (1997)|       Drama|Romance| 2.5090504|\n",
      "|    21|  48780|   5.0|                null|                null| 3.4841404|\n",
      "|    24|    858|   4.0|Godfather, The (1...|         Crime|Drama|  4.087081|\n",
      "|     9|    516|   3.0|Renaissance Man (...|        Comedy|Drama| 0.6530771|\n",
      "|    12|     31|   2.0|Dangerous Minds (...|               Drama|  2.083877|\n",
      "|    12|   1270|   4.0|Back to the Futur...|Adventure|Comedy|...| 2.6487105|\n",
      "|    18|   1270|   2.0|Back to the Futur...|Adventure|Comedy|...| 3.8680382|\n",
      "|    19|   1270|   4.0|Back to the Futur...|Adventure|Comedy|...| 2.2021422|\n",
      "|     3|   3986|   3.5| 6th Day, The (2000)|Action|Sci-Fi|Thr...| 2.2964973|\n",
      "+------+-------+------+--------------------+--------------------+----------+\n",
      "only showing top 20 rows\n",
      "\n"
     ]
    }
   ],
   "source": [
    "# Fit data and make predictions\n",
    "model = als.fit(train_df)\n",
    "predictions = model.transform(test_df)\n",
    "\n",
    "predictions.show()"
   ]
  },
  {
   "cell_type": "code",
   "execution_count": 8,
   "metadata": {},
   "outputs": [
    {
     "name": "stdout",
     "output_type": "stream",
     "text": [
      "Root Mean Squared Error = 1.6842\n"
     ]
    }
   ],
   "source": [
    "# Evaluate model using RMSE\n",
    "evaluator = RegressionEvaluator(metricName=\"rmse\", labelCol=\"rating\", predictionCol=\"prediction\")\n",
    "rmse = evaluator.evaluate(predictions)\n",
    "\n",
    "print(\"Root Mean Squared Error = {:.4f}\".format(rmse))"
   ]
  },
  {
   "cell_type": "code",
   "execution_count": 9,
   "metadata": {},
   "outputs": [],
   "source": [
    "def get_title(movie_id):\n",
    "    return (movies_df.filter(movies_df.movieId == movie_id).collect()[0][1])"
   ]
  },
  {
   "cell_type": "code",
   "execution_count": 10,
   "metadata": {},
   "outputs": [],
   "source": [
    "#Predict list of movies for a specific user\n",
    "movie_ids = [1, 11, 111]\n",
    "user_ids = [10, 10, 10]\n",
    "\n",
    "user_preds = spark.createDataFrame(zip(movie_ids, user_ids), schema=['movieId', 'userId'])\n",
    "\n",
    "preds = model.transform(user_preds)"
   ]
  },
  {
   "cell_type": "code",
   "execution_count": null,
   "metadata": {},
   "outputs": [],
   "source": [
    "# Stop SparkSession\n",
    "spark.stop()"
   ]
  }
 ],
 "metadata": {
  "kernelspec": {
   "display_name": "Python 3",
   "language": "python",
   "name": "python3"
  },
  "language_info": {
   "codemirror_mode": {
    "name": "ipython",
    "version": 3
   },
   "file_extension": ".py",
   "mimetype": "text/x-python",
   "name": "python",
   "nbconvert_exporter": "python",
   "pygments_lexer": "ipython3",
   "version": "3.9.5"
  },
  "orig_nbformat": 4
 },
 "nbformat": 4,
 "nbformat_minor": 2
}
