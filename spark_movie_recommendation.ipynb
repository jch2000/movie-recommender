{
 "cells": [
  {
   "cell_type": "code",
   "execution_count": 1,
   "metadata": {},
   "outputs": [],
   "source": [
    "from pyspark.sql import SparkSession\n",
    "from pyspark.ml.recommendation import ALS\n",
    "from pyspark.ml.evaluation import RegressionEvaluator\n",
    "from pyspark.sql.functions import col"
   ]
  },
  {
   "cell_type": "code",
   "execution_count": 2,
   "metadata": {},
   "outputs": [],
   "source": [
    "# Initialize SparkSession\n",
    "spark = SparkSession.builder.appName('25m_movie_lens').getOrCreate()"
   ]
  },
  {
   "cell_type": "code",
   "execution_count": 3,
   "metadata": {},
   "outputs": [
    {
     "ename": "TypeError",
     "evalue": "csv() got an unexpected keyword argument 'compression'",
     "output_type": "error",
     "traceback": [
      "\u001b[1;31m---------------------------------------------------------------------------\u001b[0m",
      "\u001b[1;31mTypeError\u001b[0m                                 Traceback (most recent call last)",
      "\u001b[1;32mc:\\Users\\justi\\OneDrive\\Desktop\\misc\\cloud project\\spark_movie_recommendation.ipynb Cell 3\u001b[0m in \u001b[0;36m<cell line: 2>\u001b[1;34m()\u001b[0m\n\u001b[0;32m      <a href='vscode-notebook-cell:/c%3A/Users/justi/OneDrive/Desktop/misc/cloud%20project/spark_movie_recommendation.ipynb#W2sZmlsZQ%3D%3D?line=0'>1</a>\u001b[0m \u001b[39m# Load both the ratings and movies data into a pandas DataFrame\u001b[39;00m\n\u001b[1;32m----> <a href='vscode-notebook-cell:/c%3A/Users/justi/OneDrive/Desktop/misc/cloud%20project/spark_movie_recommendation.ipynb#W2sZmlsZQ%3D%3D?line=1'>2</a>\u001b[0m ratings_df \u001b[39m=\u001b[39m spark\u001b[39m.\u001b[39;49mread\u001b[39m.\u001b[39;49mcsv(\u001b[39m'\u001b[39;49m\u001b[39m./ml-25m.zip/ml-25m/ratings.csv\u001b[39;49m\u001b[39m'\u001b[39;49m, header\u001b[39m=\u001b[39;49m\u001b[39mTrue\u001b[39;49;00m, inferSchema\u001b[39m=\u001b[39;49m\u001b[39mTrue\u001b[39;49;00m, compression\u001b[39m=\u001b[39;49m\u001b[39m'\u001b[39;49m\u001b[39mzip\u001b[39;49m\u001b[39m'\u001b[39;49m)\n\u001b[0;32m      <a href='vscode-notebook-cell:/c%3A/Users/justi/OneDrive/Desktop/misc/cloud%20project/spark_movie_recommendation.ipynb#W2sZmlsZQ%3D%3D?line=2'>3</a>\u001b[0m movies_df \u001b[39m=\u001b[39m spark\u001b[39m.\u001b[39mread\u001b[39m.\u001b[39mcsv(\u001b[39m'\u001b[39m\u001b[39m./ml-25m.zip/ml-25m/movies.csv\u001b[39m\u001b[39m'\u001b[39m, header\u001b[39m=\u001b[39m\u001b[39mTrue\u001b[39;00m, inferSchema\u001b[39m=\u001b[39m\u001b[39mTrue\u001b[39;00m, compression\u001b[39m=\u001b[39m\u001b[39m'\u001b[39m\u001b[39mzip\u001b[39m\u001b[39m'\u001b[39m)\n",
      "\u001b[1;31mTypeError\u001b[0m: csv() got an unexpected keyword argument 'compression'"
     ]
    }
   ],
   "source": [
    "# Load both the ratings and movies data into a pandas DataFrame\n",
    "ratings_df = spark.read.csv('./ml-25m/ratings.csv', header=True, inferSchema=True)\n",
    "movies_df = spark.read.csv('./ml-25m/movies.csv', header=True, inferSchema=True)"
   ]
  },
  {
   "cell_type": "code",
   "execution_count": 141,
   "metadata": {},
   "outputs": [
    {
     "name": "stdout",
     "output_type": "stream",
     "text": [
      "+------+-------+------+--------------------+\n",
      "|userId|movieId|rating|               title|\n",
      "+------+-------+------+--------------------+\n",
      "|     1|    296|   5.0| Pulp Fiction (1994)|\n",
      "|     1|    306|   3.5|Three Colors: Red...|\n",
      "|     1|    307|   5.0|Three Colors: Blu...|\n",
      "|     1|    665|   5.0|  Underground (1995)|\n",
      "|     1|    899|   3.5|Singin' in the Ra...|\n",
      "|     1|   1088|   4.0|Dirty Dancing (1987)|\n",
      "|     1|   1175|   3.5| Delicatessen (1991)|\n",
      "|     1|   1217|   3.5|          Ran (1985)|\n",
      "|     1|   1237|   5.0|Seventh Seal, The...|\n",
      "|     1|   1250|   4.0|Bridge on the Riv...|\n",
      "|     1|   1260|   3.5|            M (1931)|\n",
      "|     1|   1653|   4.0|      Gattaca (1997)|\n",
      "|     1|   2011|   2.5|Back to the Futur...|\n",
      "|     1|   2012|   2.5|Back to the Futur...|\n",
      "|     1|   2068|   2.5|Fanny and Alexand...|\n",
      "|     1|   2161|   3.5|NeverEnding Story...|\n",
      "|     1|   2351|   4.5|Nights of Cabiria...|\n",
      "|     1|   2573|   4.0|        Tango (1998)|\n",
      "|     1|   2632|   5.0|Saragossa Manuscr...|\n",
      "|     1|   2692|   5.0|Run Lola Run (Lol...|\n",
      "+------+-------+------+--------------------+\n",
      "only showing top 20 rows\n",
      "\n"
     ]
    }
   ],
   "source": [
    "# Left join ratings on movies\n",
    "join_df = ratings_df.join(movies_df, on='movieId', how='left') \\\n",
    "    .select(col('userId'), col('movieId'), col('rating'), col('title'), col('genres')) \\\n",
    "    .sort('userId')\n",
    "\n",
    "# Drop original and intermediate genres columns\n",
    "join_df = join_df.drop(col('genres'))\n",
    "\n",
    "join_df.show()"
   ]
  },
  {
   "cell_type": "code",
   "execution_count": 142,
   "metadata": {},
   "outputs": [],
   "source": [
    "(train_df, test_df) = join_df.randomSplit([0.8, 0.2])"
   ]
  },
  {
   "cell_type": "code",
   "execution_count": 143,
   "metadata": {},
   "outputs": [],
   "source": [
    "# Define ALS model\n",
    "als = ALS(maxIter=20, regParam=0.01, userCol=\"userId\", itemCol=\"movieId\", ratingCol=\"rating\",\n",
    "          coldStartStrategy=\"drop\", nonnegative=True)"
   ]
  },
  {
   "cell_type": "code",
   "execution_count": 144,
   "metadata": {},
   "outputs": [],
   "source": [
    "# Fit data and make predictions\n",
    "model = als.fit(train_df)\n",
    "predictions = model.transform(test_df)"
   ]
  },
  {
   "cell_type": "code",
   "execution_count": 145,
   "metadata": {},
   "outputs": [
    {
     "name": "stdout",
     "output_type": "stream",
     "text": [
      "Root Mean Squared Error = 1.4716\n"
     ]
    }
   ],
   "source": [
    "# Evaluate model using RMSE\n",
    "evaluator = RegressionEvaluator(metricName=\"rmse\", labelCol=\"rating\", predictionCol=\"prediction\")\n",
    "rmse = evaluator.evaluate(predictions)\n",
    "\n",
    "print(\"Root Mean Squared Error = {:.4f}\".format(rmse))"
   ]
  },
  {
   "cell_type": "code",
   "execution_count": 146,
   "metadata": {},
   "outputs": [],
   "source": [
    "def get_title(movie_id):\n",
    "    return (movies_df.filter(movies_df.movieId == movie_id).collect()[0][1])"
   ]
  },
  {
   "cell_type": "code",
   "execution_count": null,
   "metadata": {},
   "outputs": [],
   "source": [
    "# Stop SparkSession\n",
    "spark.stop()"
   ]
  }
 ],
 "metadata": {
  "kernelspec": {
   "display_name": "Python 3",
   "language": "python",
   "name": "python3"
  },
  "language_info": {
   "codemirror_mode": {
    "name": "ipython",
    "version": 3
   },
   "file_extension": ".py",
   "mimetype": "text/x-python",
   "name": "python",
   "nbconvert_exporter": "python",
   "pygments_lexer": "ipython3",
   "version": "3.9.5"
  },
  "orig_nbformat": 4
 },
 "nbformat": 4,
 "nbformat_minor": 2
}
