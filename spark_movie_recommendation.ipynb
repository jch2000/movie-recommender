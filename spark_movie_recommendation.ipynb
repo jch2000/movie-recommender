{
 "cells": [
  {
   "cell_type": "code",
   "execution_count": 1,
   "metadata": {},
   "outputs": [],
   "source": [
    "from pyspark.sql import SparkSession\n",
    "from pyspark.ml.recommendation import ALS\n",
    "from pyspark.ml.evaluation import RegressionEvaluator\n",
    "from pyspark.sql.functions import col"
   ]
  },
  {
   "cell_type": "code",
   "execution_count": 2,
   "metadata": {},
   "outputs": [],
   "source": [
    "# Initialize SparkSession\n",
    "spark = SparkSession.builder.appName('25m_movie_lens').getOrCreate()"
   ]
  },
  {
   "cell_type": "code",
   "execution_count": 3,
   "metadata": {},
   "outputs": [
    {
     "name": "stdout",
     "output_type": "stream",
     "text": [
      "+------+-------+------+----------+\n",
      "|userId|movieId|rating| timestamp|\n",
      "+------+-------+------+----------+\n",
      "|     1|    296|   5.0|1147880044|\n",
      "|     1|    306|   3.5|1147868817|\n",
      "|     1|    307|   5.0|1147868828|\n",
      "|     1|    665|   5.0|1147878820|\n",
      "|     1|    899|   3.5|1147868510|\n",
      "|     1|   1088|   4.0|1147868495|\n",
      "|     1|   1175|   3.5|1147868826|\n",
      "|     1|   1217|   3.5|1147878326|\n",
      "|     1|   1237|   5.0|1147868839|\n",
      "|     1|   1250|   4.0|1147868414|\n",
      "|     1|   1260|   3.5|1147877857|\n",
      "|     1|   1653|   4.0|1147868097|\n",
      "|     1|   2011|   2.5|1147868079|\n",
      "|     1|   2012|   2.5|1147868068|\n",
      "|     1|   2068|   2.5|1147869044|\n",
      "|     1|   2161|   3.5|1147868609|\n",
      "|     1|   2351|   4.5|1147877957|\n",
      "|     1|   2573|   4.0|1147878923|\n",
      "|     1|   2632|   5.0|1147878248|\n",
      "|     1|   2692|   5.0|1147869100|\n",
      "+------+-------+------+----------+\n",
      "only showing top 20 rows\n",
      "\n",
      "+-------+--------------------+--------------------+\n",
      "|movieId|               title|              genres|\n",
      "+-------+--------------------+--------------------+\n",
      "|      1|    Toy Story (1995)|Adventure|Animati...|\n",
      "|      2|      Jumanji (1995)|Adventure|Childre...|\n",
      "|      3|Grumpier Old Men ...|      Comedy|Romance|\n",
      "|      4|Waiting to Exhale...|Comedy|Drama|Romance|\n",
      "|      5|Father of the Bri...|              Comedy|\n",
      "|      6|         Heat (1995)|Action|Crime|Thri...|\n",
      "|      7|      Sabrina (1995)|      Comedy|Romance|\n",
      "|      8| Tom and Huck (1995)|  Adventure|Children|\n",
      "|      9| Sudden Death (1995)|              Action|\n",
      "|     10|    GoldenEye (1995)|Action|Adventure|...|\n",
      "|     11|American Presiden...|Comedy|Drama|Romance|\n",
      "|     12|Dracula: Dead and...|       Comedy|Horror|\n",
      "|     13|        Balto (1995)|Adventure|Animati...|\n",
      "|     14|        Nixon (1995)|               Drama|\n",
      "|     15|Cutthroat Island ...|Action|Adventure|...|\n",
      "|     16|       Casino (1995)|         Crime|Drama|\n",
      "|     17|Sense and Sensibi...|       Drama|Romance|\n",
      "|     18|   Four Rooms (1995)|              Comedy|\n",
      "|     19|Ace Ventura: When...|              Comedy|\n",
      "|     20|  Money Train (1995)|Action|Comedy|Cri...|\n",
      "+-------+--------------------+--------------------+\n",
      "only showing top 20 rows\n",
      "\n"
     ]
    }
   ],
   "source": [
    "# Load both the ratings and movies data into a pandas DataFrame\n",
    "ratings_df = spark.read.csv('./ml-25m/ratings.csv', header=True, inferSchema=True) .limit(50000)\n",
    "movies_df = spark.read.csv('./ml-25m/movies.csv', header=True, inferSchema=True).limit(50000)\n",
    "\n",
    "ratings_df.show()\n",
    "movies_df.show()"
   ]
  },
  {
   "cell_type": "code",
   "execution_count": 4,
   "metadata": {},
   "outputs": [
    {
     "name": "stdout",
     "output_type": "stream",
     "text": [
      "+------+-------+------+--------------------+--------------------+\n",
      "|userId|movieId|rating|               title|              genres|\n",
      "+------+-------+------+--------------------+--------------------+\n",
      "|     1|    296|   5.0| Pulp Fiction (1994)|Comedy|Crime|Dram...|\n",
      "|     1|    306|   3.5|Three Colors: Red...|               Drama|\n",
      "|     1|    307|   5.0|Three Colors: Blu...|               Drama|\n",
      "|     1|    665|   5.0|  Underground (1995)|    Comedy|Drama|War|\n",
      "|     1|    899|   3.5|Singin' in the Ra...|Comedy|Musical|Ro...|\n",
      "|     1|   1088|   4.0|Dirty Dancing (1987)|Drama|Musical|Rom...|\n",
      "|     1|   1175|   3.5| Delicatessen (1991)|Comedy|Drama|Romance|\n",
      "|     1|   1217|   3.5|          Ran (1985)|           Drama|War|\n",
      "|     1|   1237|   5.0|Seventh Seal, The...|               Drama|\n",
      "|     1|   1250|   4.0|Bridge on the Riv...| Adventure|Drama|War|\n",
      "|     1|   1260|   3.5|            M (1931)|Crime|Film-Noir|T...|\n",
      "|     1|   1653|   4.0|      Gattaca (1997)|Drama|Sci-Fi|Thri...|\n",
      "|     1|   2011|   2.5|Back to the Futur...|Adventure|Comedy|...|\n",
      "|     1|   2012|   2.5|Back to the Futur...|Adventure|Comedy|...|\n",
      "|     1|   2068|   2.5|Fanny and Alexand...|Drama|Fantasy|Mys...|\n",
      "|     1|   2161|   3.5|NeverEnding Story...|Adventure|Childre...|\n",
      "|     1|   2351|   4.5|Nights of Cabiria...|               Drama|\n",
      "|     1|   2573|   4.0|        Tango (1998)|       Drama|Musical|\n",
      "|     1|   2632|   5.0|Saragossa Manuscr...|Adventure|Drama|M...|\n",
      "|     1|   2692|   5.0|Run Lola Run (Lol...|        Action|Crime|\n",
      "+------+-------+------+--------------------+--------------------+\n",
      "only showing top 20 rows\n",
      "\n"
     ]
    }
   ],
   "source": [
    "# Left join ratings on movies\n",
    "join_df = ratings_df.join(movies_df, on='movieId', how='left') \\\n",
    "    .select(col('userId'), col('movieId'), col('rating'), col('title'), col('genres')) \\\n",
    "    .sort('userId')\n",
    "\n",
    "join_df.show()"
   ]
  },
  {
   "cell_type": "code",
   "execution_count": 5,
   "metadata": {},
   "outputs": [],
   "source": [
    "(train_df, test_df) = join_df.randomSplit([0.8, 0.2])"
   ]
  },
  {
   "cell_type": "code",
   "execution_count": 6,
   "metadata": {},
   "outputs": [],
   "source": [
    "# Define ALS model\n",
    "als = ALS(maxIter=15, regParam=0.01, userCol=\"userId\", itemCol=\"movieId\", ratingCol=\"rating\",\n",
    "          coldStartStrategy=\"drop\", nonnegative=True)"
   ]
  },
  {
   "cell_type": "code",
   "execution_count": 7,
   "metadata": {},
   "outputs": [
    {
     "name": "stdout",
     "output_type": "stream",
     "text": [
      "+------+-------+------+--------------------+--------------------+----------+\n",
      "|userId|movieId|rating|               title|              genres|prediction|\n",
      "+------+-------+------+--------------------+--------------------+----------+\n",
      "|     1|    307|   5.0|Three Colors: Blu...|               Drama|  4.213637|\n",
      "|     1|    665|   5.0|  Underground (1995)|    Comedy|Drama|War|  3.503456|\n",
      "|     1|   1217|   3.5|          Ran (1985)|           Drama|War| 4.2155585|\n",
      "|     1|   2012|   2.5|Back to the Futur...|Adventure|Comedy|...|   2.66482|\n",
      "|     1|   2351|   4.5|Nights of Cabiria...|               Drama| 3.6762354|\n",
      "|     1|   2843|   4.5|Black Cat, White ...|      Comedy|Romance|  2.862689|\n",
      "|     1|   3949|   5.0|Requiem for a Dre...|               Drama| 3.5860238|\n",
      "|     1|   4308|   3.0| Moulin Rouge (2001)|Drama|Musical|Rom...| 2.1690135|\n",
      "|     1|   5147|   4.0|Wild Strawberries...|               Drama|  2.790667|\n",
      "|     1|   6954|   3.5|Barbarian Invasio...|Comedy|Crime|Dram...|  2.603771|\n",
      "|     1|   7327|   3.5|      Persona (1966)|               Drama|  2.790667|\n",
      "|     2|    110|   5.0|   Braveheart (1995)|    Action|Drama|War|  4.068838|\n",
      "|     2|    318|   5.0|Shawshank Redempt...|         Crime|Drama|  3.897459|\n",
      "|     2|    380|   1.0|    True Lies (1994)|Action|Adventure|...| 3.7410622|\n",
      "|     2|    653|   3.0|  Dragonheart (1996)|Action|Adventure|...| 2.7647436|\n",
      "|     2|   1198|   4.0|Raiders of the Lo...|    Action|Adventure| 3.5243483|\n",
      "|     2|   1210|   5.0|Star Wars: Episod...|Action|Adventure|...|  4.210743|\n",
      "|     2|   1293|   5.0|       Gandhi (1982)|               Drama| 4.3204784|\n",
      "|     2|   1356|   5.0|Star Trek: First ...|Action|Adventure|...| 4.2756557|\n",
      "|     2|   1374|   4.5|Star Trek II: The...|Action|Adventure|...| 5.9706364|\n",
      "+------+-------+------+--------------------+--------------------+----------+\n",
      "only showing top 20 rows\n",
      "\n"
     ]
    }
   ],
   "source": [
    "# Fit data and make predictions\n",
    "model = als.fit(train_df)\n",
    "predictions = model.transform(test_df)\n",
    "\n",
    "predictions.show()"
   ]
  },
  {
   "cell_type": "code",
   "execution_count": 8,
   "metadata": {},
   "outputs": [
    {
     "name": "stdout",
     "output_type": "stream",
     "text": [
      "Root Mean Squared Error = 1.1476\n"
     ]
    }
   ],
   "source": [
    "# Evaluate model using RMSE\n",
    "evaluator = RegressionEvaluator(metricName=\"rmse\", labelCol=\"rating\", predictionCol=\"prediction\")\n",
    "rmse = evaluator.evaluate(predictions)\n",
    "\n",
    "print(\"Root Mean Squared Error = {:.4f}\".format(rmse))"
   ]
  },
  {
   "cell_type": "code",
   "execution_count": 9,
   "metadata": {},
   "outputs": [],
   "source": [
    "# Predict list of movies for a specific user\n",
    "movie_ids = [1, 11, 111]\n",
    "user_ids = [10, 10, 10]\n",
    "\n",
    "user_preds = spark.createDataFrame(zip(movie_ids, user_ids), schema=['movieId', 'userId'])\n",
    "\n",
    "preds = model.transform(user_preds)"
   ]
  },
  {
   "cell_type": "code",
   "execution_count": 10,
   "metadata": {},
   "outputs": [],
   "source": [
    "# Stop SparkSession\n",
    "spark.stop()"
   ]
  }
 ],
 "metadata": {
  "kernelspec": {
   "display_name": "Python 3",
   "language": "python",
   "name": "python3"
  },
  "language_info": {
   "codemirror_mode": {
    "name": "ipython",
    "version": 3
   },
   "file_extension": ".py",
   "mimetype": "text/x-python",
   "name": "python",
   "nbconvert_exporter": "python",
   "pygments_lexer": "ipython3",
   "version": "3.9.5"
  },
  "orig_nbformat": 4
 },
 "nbformat": 4,
 "nbformat_minor": 2
}
